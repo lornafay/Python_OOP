{
 "cells": [
  {
   "cell_type": "code",
   "execution_count": 73,
   "metadata": {},
   "outputs": [],
   "source": [
    "class myArray:\n",
    "    \n",
    "    def __init__(self, array=list):\n",
    "        '''array may be a single or nested list (1D or 2D)'''\n",
    "        self.array = array    \n",
    "        \n",
    "        check_list = all(type(elem) == list for elem in self.array)\n",
    "        if check_list:\n",
    "            for i in self.array:\n",
    "                check_num = all(type(val) == int for val in i)\n",
    "                if check_num:\n",
    "                    self.nested = True\n",
    "                    continue\n",
    "                else:\n",
    "                    print(\"Error: nested lists must of numerical type\")\n",
    "        \n",
    "            self.length = len(self.array[0])\n",
    "            for item in self.array:\n",
    "                if len(item) == self.length:\n",
    "                    continue\n",
    "                else:\n",
    "                    print(\"Error: nested lists must be of the same length\")\n",
    "                    break\n",
    "                    \n",
    "        else: # if instance is not a nested list\n",
    "            check_nums = all(type(nums) == int for nums in self.array)\n",
    "            if check_nums:\n",
    "                self.nested = False\n",
    "            else:\n",
    "                print(\"Error: 1D list must contain numerical types\")\n",
    "\n",
    "\n",
    "    def maximum(self, **kwargs):\n",
    "        '''Returns the max value of the array.\n",
    "        \n",
    "           Performs an initial check on 1D or 2D. \n",
    "           Axis may be supplied for 2D arrays.\n",
    "           Makes use of the weakly private _maximum method.'''\n",
    "        \n",
    "        if not self.nested:\n",
    "            result = myArray._maximum(self)\n",
    "            \n",
    "        else:\n",
    "            if kwargs: # if axis supplied\n",
    "                if kwargs[\"axis\"] == 0: # vertical axis\n",
    "                    result = self.array[0]\n",
    "                    for i,j in enumerate(self.array): # for each index,value available in outer list\n",
    "                        for a,b in enumerate(self.array[i]): # for each index,value available in inner list\n",
    "                            if b > test[a]: # if value is greater than that index of test list\n",
    "                                test[a] = b # replace test list value with new value\n",
    "                                       \n",
    "                elif kwargs[\"axis\"] == 1: # horizontal axis\n",
    "                    result = []\n",
    "                    for i in self.array:\n",
    "                        result.append(myArray._maximum(self, i)) # get the max value for each nested list\n",
    "            else:\n",
    "                new_list = []\n",
    "                for i in self.array:\n",
    "                    for j in i:\n",
    "                        new_list.append(j)\n",
    "                result = myArray._maximum(self, new_list)\n",
    "                        \n",
    "        return result\n",
    "    \n",
    "    \n",
    "    def minimum(self, **kwargs):\n",
    "        '''Returns the minimum value of the array.\n",
    "        \n",
    "           Performs an initial check on 1D or 2D.\n",
    "           Axis may be supplied for 2D arrays.\n",
    "           Makes use of the weakly private _minimum method.'''\n",
    "        \n",
    "        if not self.nested:\n",
    "            result = myArray._minimum(self)\n",
    "            \n",
    "        else:\n",
    "            if kwargs: # if axis supplied\n",
    "                if kwargs[axis] == 0: # vertical axis\n",
    "                    result = self.array[0]\n",
    "                    for i,j in enumerate(self.array): # for each index,value available in outer list\n",
    "                        for a,b in enumerate(self.array[i]): # for each index,value available in inner list\n",
    "                            if b < test[a]: # if value is greater than that index of test list\n",
    "                                test[a] = b # replace test list value with new value\n",
    "                \n",
    "                elif kwargs[axis] == 1: # horizontal axis\n",
    "                    result = []\n",
    "                    for i in self.array:\n",
    "                        result.append(myArray._minimum(self, i)) # get the max value for each nested list\n",
    "            else:\n",
    "                new_list = []\n",
    "                for i in self.array:\n",
    "                    for j in i:\n",
    "                        new_list.append(j)\n",
    "                result = myArray._minimum(self, new_list)\n",
    "                        \n",
    "        return result\n",
    "    \n",
    "    \n",
    "    def _maximum(self, arr):\n",
    "        '''Finds max of a 1D array'''\n",
    "        \n",
    "        max_ = 0\n",
    "        for i in arr:\n",
    "                if i > max_:\n",
    "                    max_ = i \n",
    "        return max_\n",
    "    \n",
    "    \n",
    "    def _minimum(self, arr):\n",
    "        '''Finds min of a 1D array'''\n",
    "        \n",
    "        min_ = myArray._maximum(self, arr)\n",
    "        for i in arr:\n",
    "                if i < min_:\n",
    "                    min_ = i \n",
    "        return min_\n",
    "    \n",
    "\n",
    "    def mean(self, *args):\n",
    "        '''Returns the mean value of the array.\n",
    "        \n",
    "           Performs an initial check on 1D or 2D.'''\n",
    "        \n",
    "        self.total = 0\n",
    "        self.length = len(self.array)\n",
    "        for i in self.array:\n",
    "            self.total += i\n",
    "        return self.total / self.length\n",
    "    \n",
    "    \n",
    "    "
   ]
  },
  {
   "cell_type": "markdown",
   "metadata": {},
   "source": [
    "### Design details\n",
    "\n",
    "- check for list/array dimension within constructor function"
   ]
  },
  {
   "cell_type": "code",
   "execution_count": 74,
   "metadata": {},
   "outputs": [],
   "source": [
    "arr = myArray([[6, 9, 12], [4, 5, 16], [3, 26, 9]])"
   ]
  },
  {
   "cell_type": "code",
   "execution_count": 75,
   "metadata": {},
   "outputs": [
    {
     "data": {
      "text/plain": [
       "True"
      ]
     },
     "execution_count": 75,
     "metadata": {},
     "output_type": "execute_result"
    }
   ],
   "source": [
    "arr.nested"
   ]
  },
  {
   "cell_type": "code",
   "execution_count": 76,
   "metadata": {},
   "outputs": [
    {
     "data": {
      "text/plain": [
       "26"
      ]
     },
     "execution_count": 76,
     "metadata": {},
     "output_type": "execute_result"
    }
   ],
   "source": [
    "arr.maximum()"
   ]
  },
  {
   "cell_type": "code",
   "execution_count": 72,
   "metadata": {},
   "outputs": [
    {
     "ename": "TypeError",
     "evalue": "_maximum() missing 1 required positional argument: 'arr'",
     "output_type": "error",
     "traceback": [
      "\u001b[0;31m---------------------------------------------------------------------------\u001b[0m",
      "\u001b[0;31mTypeError\u001b[0m                                 Traceback (most recent call last)",
      "\u001b[0;32m<ipython-input-72-de529e89d273>\u001b[0m in \u001b[0;36m<module>\u001b[0;34m\u001b[0m\n\u001b[0;32m----> 1\u001b[0;31m \u001b[0marr\u001b[0m\u001b[0;34m.\u001b[0m\u001b[0mminimum\u001b[0m\u001b[0;34m(\u001b[0m\u001b[0;34m)\u001b[0m\u001b[0;34m\u001b[0m\u001b[0;34m\u001b[0m\u001b[0m\n\u001b[0m",
      "\u001b[0;32m<ipython-input-68-c78719a1fda9>\u001b[0m in \u001b[0;36mminimum\u001b[0;34m(self, **kwargs)\u001b[0m\n\u001b[1;32m     92\u001b[0m                     \u001b[0;32mfor\u001b[0m \u001b[0mj\u001b[0m \u001b[0;32min\u001b[0m \u001b[0mi\u001b[0m\u001b[0;34m:\u001b[0m\u001b[0;34m\u001b[0m\u001b[0;34m\u001b[0m\u001b[0m\n\u001b[1;32m     93\u001b[0m                         \u001b[0mnew_list\u001b[0m\u001b[0;34m.\u001b[0m\u001b[0mappend\u001b[0m\u001b[0;34m(\u001b[0m\u001b[0mj\u001b[0m\u001b[0;34m)\u001b[0m\u001b[0;34m\u001b[0m\u001b[0;34m\u001b[0m\u001b[0m\n\u001b[0;32m---> 94\u001b[0;31m                 \u001b[0mresult\u001b[0m \u001b[0;34m=\u001b[0m \u001b[0mmyArray\u001b[0m\u001b[0;34m.\u001b[0m\u001b[0m_minimum\u001b[0m\u001b[0;34m(\u001b[0m\u001b[0mself\u001b[0m\u001b[0;34m,\u001b[0m \u001b[0mnew_list\u001b[0m\u001b[0;34m)\u001b[0m\u001b[0;34m\u001b[0m\u001b[0;34m\u001b[0m\u001b[0m\n\u001b[0m\u001b[1;32m     95\u001b[0m \u001b[0;34m\u001b[0m\u001b[0m\n\u001b[1;32m     96\u001b[0m         \u001b[0;32mreturn\u001b[0m \u001b[0mresult\u001b[0m\u001b[0;34m\u001b[0m\u001b[0;34m\u001b[0m\u001b[0m\n",
      "\u001b[0;32m<ipython-input-68-c78719a1fda9>\u001b[0m in \u001b[0;36m_minimum\u001b[0;34m(self, arr)\u001b[0m\n\u001b[1;32m    110\u001b[0m         \u001b[0;34m'''Finds min of a 1D array'''\u001b[0m\u001b[0;34m\u001b[0m\u001b[0;34m\u001b[0m\u001b[0m\n\u001b[1;32m    111\u001b[0m \u001b[0;34m\u001b[0m\u001b[0m\n\u001b[0;32m--> 112\u001b[0;31m         \u001b[0mmin_\u001b[0m \u001b[0;34m=\u001b[0m \u001b[0mmyArray\u001b[0m\u001b[0;34m.\u001b[0m\u001b[0m_maximum\u001b[0m\u001b[0;34m(\u001b[0m\u001b[0marr\u001b[0m\u001b[0;34m)\u001b[0m\u001b[0;34m\u001b[0m\u001b[0;34m\u001b[0m\u001b[0m\n\u001b[0m\u001b[1;32m    113\u001b[0m         \u001b[0;32mfor\u001b[0m \u001b[0mi\u001b[0m \u001b[0;32min\u001b[0m \u001b[0marr\u001b[0m\u001b[0;34m:\u001b[0m\u001b[0;34m\u001b[0m\u001b[0;34m\u001b[0m\u001b[0m\n\u001b[1;32m    114\u001b[0m                 \u001b[0;32mif\u001b[0m \u001b[0mi\u001b[0m \u001b[0;34m<\u001b[0m \u001b[0mmin_\u001b[0m\u001b[0;34m:\u001b[0m\u001b[0;34m\u001b[0m\u001b[0;34m\u001b[0m\u001b[0m\n",
      "\u001b[0;31mTypeError\u001b[0m: _maximum() missing 1 required positional argument: 'arr'"
     ]
    }
   ],
   "source": [
    "arr.minimum()"
   ]
  },
  {
   "cell_type": "code",
   "execution_count": null,
   "metadata": {},
   "outputs": [],
   "source": []
  },
  {
   "cell_type": "code",
   "execution_count": null,
   "metadata": {},
   "outputs": [],
   "source": []
  },
  {
   "cell_type": "code",
   "execution_count": null,
   "metadata": {},
   "outputs": [],
   "source": [
    "             "
   ]
  },
  {
   "cell_type": "code",
   "execution_count": 31,
   "metadata": {},
   "outputs": [],
   "source": [
    "ar = [[1,2,3,4],[5,6,17,8],[9,10,11,12]]"
   ]
  },
  {
   "cell_type": "code",
   "execution_count": 35,
   "metadata": {},
   "outputs": [
    {
     "name": "stdout",
     "output_type": "stream",
     "text": [
      "0 [1, 2, 3, 4]\n",
      "1 [5, 6, 17, 8]\n",
      "2 [9, 10, 11, 12]\n"
     ]
    }
   ],
   "source": [
    "for i,j in enumerate(ar):\n",
    "    print(i,j)"
   ]
  },
  {
   "cell_type": "code",
   "execution_count": 36,
   "metadata": {},
   "outputs": [
    {
     "name": "stdout",
     "output_type": "stream",
     "text": [
      "[9, 10, 17, 12]\n"
     ]
    }
   ],
   "source": [
    "result = []\n",
    "\n",
    "for i in range(4):   \n",
    "    outer = []\n",
    "    for j in ar:\n",
    "        outer.append(j[i])\n",
    "    \n",
    "    result.append(max(outer))\n",
    "\n",
    "print(result)"
   ]
  },
  {
   "cell_type": "code",
   "execution_count": 44,
   "metadata": {},
   "outputs": [],
   "source": [
    "def zeros(*args):\n",
    "    \"\"\"Returns a specified number of zeros, in 1D or 2D\"\"\"\n",
    "\n",
    "    output = [\"| \"]\n",
    "    # if 1D\n",
    "    if len(args) == 1:\n",
    "        output += ((\"0 \" * args[0]) + \"|\")\n",
    "        print(output)\n",
    "\n",
    "    if len(args) == 2:\n",
    "        output += ((\"0 \" * args[0]) + \"|\")\n",
    "        for i in range(args[1]):\n",
    "            print(output)"
   ]
  },
  {
   "cell_type": "code",
   "execution_count": 45,
   "metadata": {},
   "outputs": [
    {
     "name": "stdout",
     "output_type": "stream",
     "text": [
      "| 0 0 0 0 |\n"
     ]
    }
   ],
   "source": [
    "zeros(4)"
   ]
  },
  {
   "cell_type": "code",
   "execution_count": 46,
   "metadata": {},
   "outputs": [
    {
     "name": "stdout",
     "output_type": "stream",
     "text": [
      "| 0 0 0 0 0 0 0 0 |\n",
      "| 0 0 0 0 0 0 0 0 |\n",
      "| 0 0 0 0 0 0 0 0 |\n",
      "| 0 0 0 0 0 0 0 0 |\n"
     ]
    }
   ],
   "source": [
    "zeros(8,4)"
   ]
  },
  {
   "cell_type": "code",
   "execution_count": 48,
   "metadata": {},
   "outputs": [
    {
     "ename": "NameError",
     "evalue": "name 'var2' is not defined",
     "output_type": "error",
     "traceback": [
      "\u001b[0;31m---------------------------------------------------------------------------\u001b[0m",
      "\u001b[0;31mNameError\u001b[0m                                 Traceback (most recent call last)",
      "\u001b[0;32m<ipython-input-48-f108deec14a5>\u001b[0m in \u001b[0;36m<module>\u001b[0;34m\u001b[0m\n\u001b[1;32m      1\u001b[0m \u001b[0mvar\u001b[0m \u001b[0;34m=\u001b[0m \u001b[0;36m4\u001b[0m\u001b[0;34m\u001b[0m\u001b[0;34m\u001b[0m\u001b[0m\n\u001b[0;32m----> 2\u001b[0;31m \u001b[0mvar2\u001b[0m\u001b[0;34m.\u001b[0m\u001b[0mcopy\u001b[0m\u001b[0;34m(\u001b[0m\u001b[0mvar\u001b[0m\u001b[0;34m)\u001b[0m\u001b[0;34m\u001b[0m\u001b[0;34m\u001b[0m\u001b[0m\n\u001b[0m\u001b[1;32m      3\u001b[0m \u001b[0mprint\u001b[0m\u001b[0;34m(\u001b[0m\u001b[0mvar\u001b[0m\u001b[0;34m)\u001b[0m\u001b[0;34m\u001b[0m\u001b[0;34m\u001b[0m\u001b[0m\n\u001b[1;32m      4\u001b[0m \u001b[0mprint\u001b[0m\u001b[0;34m(\u001b[0m\u001b[0mvar2\u001b[0m\u001b[0;34m)\u001b[0m\u001b[0;34m\u001b[0m\u001b[0;34m\u001b[0m\u001b[0m\n",
      "\u001b[0;31mNameError\u001b[0m: name 'var2' is not defined"
     ]
    }
   ],
   "source": [
    "var = 4\n",
    "var2.copy(var)\n",
    "print(var)\n",
    "print(var2)"
   ]
  },
  {
   "cell_type": "code",
   "execution_count": null,
   "metadata": {},
   "outputs": [],
   "source": []
  }
 ],
 "metadata": {
  "kernelspec": {
   "display_name": "Python 3",
   "language": "python",
   "name": "python3"
  },
  "language_info": {
   "codemirror_mode": {
    "name": "ipython",
    "version": 3
   },
   "file_extension": ".py",
   "mimetype": "text/x-python",
   "name": "python",
   "nbconvert_exporter": "python",
   "pygments_lexer": "ipython3",
   "version": "3.8.3"
  }
 },
 "nbformat": 4,
 "nbformat_minor": 4
}
