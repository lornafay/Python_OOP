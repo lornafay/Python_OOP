{
 "cells": [
  {
   "cell_type": "markdown",
   "metadata": {},
   "source": [
    "## Assignment 1: myRandom"
   ]
  },
  {
   "cell_type": "markdown",
   "metadata": {},
   "source": [
    "This notebook provides a random class, myRandom, along with two subclasses MyDie and MyCoin.<br><br> These classes demonstrate the implementation of a pseudo-random number generator (PRNG), using the Linear Congruential Generator (LCG) method as outlined at https://en.wikipedia.org/wiki/Linear_congruential_generator.<br>\n",
    "The shuffle method is derived from Fischer-Yates methodology."
   ]
  },
  {
   "cell_type": "code",
   "execution_count": 62,
   "metadata": {},
   "outputs": [],
   "source": [
    "import time\n",
    "\n",
    "class myRandom:\n",
    "    \n",
    "    # ZX81 parameters\n",
    "    modulus = 2**16 + 1\n",
    "    a = 75\n",
    "    c = 74\n",
    "    \n",
    "    \n",
    "    def __init__(self, **kwargs):\n",
    "        if \"seed\" in kwargs:\n",
    "            self.seed = kwargs[\"seed\"]\n",
    "        else:\n",
    "            self.seed = int(time.time())\n",
    "\n",
    "    \n",
    "    def _randint(self):\n",
    "        \n",
    "        '''Linear congruential generator'''\n",
    "        res = (myRandom.a * self.seed + myRandom.c) % (myRandom.modulus)\n",
    "        self.seed = res\n",
    "        return res\n",
    "    \n",
    "    \n",
    "    def randint(self, bot, top):\n",
    "        '''Returns random number within two given parameters'''\n",
    "        if type(bot) == int and type(top) == int:\n",
    "            if not top < bot:\n",
    "                value = top - bot\n",
    "                range_result = value * (myRandom.rand(self)) + bot\n",
    "                return int(range_result)\n",
    "            # error checking\n",
    "            else:\n",
    "                return \"Error: first parameter must be less than second\"\n",
    "        else:\n",
    "            return \"Error: parameters must be integers\"\n",
    "        \n",
    "        \n",
    "    def set_seed(self, new_seed):\n",
    "        '''Sets a new seed'''\n",
    "        \n",
    "        if type(new_seed) == int or type(new_seed) == float:\n",
    "            print(\"setting new seed...\")\n",
    "            self.seed = new_seed\n",
    "        else:\n",
    "            # error checking\n",
    "            return \"Error: seed provided must be integer or floating point.\"\n",
    "    \n",
    "    \n",
    "    def rand(self):\n",
    "        '''Returns a random number between 0 and 1'''\n",
    "        \n",
    "        result = myRandom._randint(self)\n",
    "        # modulus will always be greater than the result of _randint()\n",
    "        return result/myRandom.modulus\n",
    "    \n",
    "    \n",
    "    def shuffle(self, list1):\n",
    "        '''Shuffles list passed as argument'''\n",
    "        \n",
    "        if type(list1) == list:\n",
    "            list2 = []\n",
    "            while len(list1) > 0:\n",
    "                k = myRandom.randint(self, 0, len(list1))\n",
    "                elem = list1[k]\n",
    "                list1.remove(elem)\n",
    "                list2.append(elem)\n",
    "            return list2\n",
    "        # error checking\n",
    "        else:\n",
    "            return \"Must pass list to be shuffled\"\n",
    "\n",
    "        \n",
    "    def choice(self, list1):   \n",
    "        '''Picks at random an element of list passed as argument'''\n",
    "        \n",
    "        if type(list1) == list:\n",
    "            select = myRandom.randint(self, 0, len(list1))\n",
    "            return list1[select]\n",
    "        # error checking\n",
    "        else:\n",
    "            return \"Error: populated list must be passed\"\n",
    "\n",
    "            \n",
    "class MyDie(myRandom):\n",
    "    \n",
    "    \n",
    "    def throw(self):\n",
    "        '''Uses randint(bot, top) to simulate a dice roll'''\n",
    "        dice = myRandom.randint(self, 1, 6 + 1)\n",
    "        return dice\n",
    "\n",
    "    \n",
    "class MyCoin(myRandom):\n",
    "    \n",
    "    \n",
    "    def toss(self):\n",
    "        '''Uses randint(bot, top) to simulate a coin toss'''\n",
    "        coin = myRandom.randint(self, 1, 2 + 1)\n",
    "        if coin == 1:\n",
    "            end = \"heads\"\n",
    "        elif coin == 2:\n",
    "            end = \"tails\"\n",
    "        return end"
   ]
  },
  {
   "cell_type": "code",
   "execution_count": 63,
   "metadata": {},
   "outputs": [],
   "source": [
    "mr1 = myRandom()"
   ]
  },
  {
   "cell_type": "code",
   "execution_count": 64,
   "metadata": {},
   "outputs": [
    {
     "data": {
      "text/plain": [
       "0.24305354227383005"
      ]
     },
     "execution_count": 64,
     "metadata": {},
     "output_type": "execute_result"
    }
   ],
   "source": [
    "mr1.rand()"
   ]
  },
  {
   "cell_type": "code",
   "execution_count": 65,
   "metadata": {},
   "outputs": [
    {
     "data": {
      "text/plain": [
       "0.23014480369867404"
      ]
     },
     "execution_count": 65,
     "metadata": {},
     "output_type": "execute_result"
    }
   ],
   "source": [
    "mr1.rand()"
   ]
  },
  {
   "cell_type": "code",
   "execution_count": 66,
   "metadata": {},
   "outputs": [
    {
     "data": {
      "text/plain": [
       "0.2619894105619726"
      ]
     },
     "execution_count": 66,
     "metadata": {},
     "output_type": "execute_result"
    }
   ],
   "source": [
    "mr1.rand()"
   ]
  },
  {
   "cell_type": "code",
   "execution_count": 67,
   "metadata": {},
   "outputs": [],
   "source": [
    "mr2 = myRandom(seed = 11)"
   ]
  },
  {
   "cell_type": "code",
   "execution_count": 68,
   "metadata": {},
   "outputs": [
    {
     "data": {
      "text/plain": [
       "0.013717442055632696"
      ]
     },
     "execution_count": 68,
     "metadata": {},
     "output_type": "execute_result"
    }
   ],
   "source": [
    "mr2.rand()"
   ]
  },
  {
   "cell_type": "code",
   "execution_count": 69,
   "metadata": {},
   "outputs": [
    {
     "data": {
      "text/plain": [
       "0.029937287333872468"
      ]
     },
     "execution_count": 69,
     "metadata": {},
     "output_type": "execute_result"
    }
   ],
   "source": [
    "mr2.rand()"
   ]
  },
  {
   "cell_type": "code",
   "execution_count": 70,
   "metadata": {},
   "outputs": [
    {
     "data": {
      "text/plain": [
       "0.24642568320185543"
      ]
     },
     "execution_count": 70,
     "metadata": {},
     "output_type": "execute_result"
    }
   ],
   "source": [
    "mr2.rand()"
   ]
  },
  {
   "cell_type": "code",
   "execution_count": 71,
   "metadata": {},
   "outputs": [
    {
     "name": "stdout",
     "output_type": "stream",
     "text": [
      "0.4830553733005783\n",
      "0.23028213070479273\n",
      "0.27228893602087373\n",
      "0.42279933472694814\n",
      "0.7110792376825305\n"
     ]
    }
   ],
   "source": [
    "for i in range(5):\n",
    "    print(mr2.rand())"
   ]
  },
  {
   "cell_type": "code",
   "execution_count": 72,
   "metadata": {},
   "outputs": [
    {
     "name": "stdout",
     "output_type": "stream",
     "text": [
      "10\n",
      "14\n",
      "14\n",
      "10\n",
      "9\n"
     ]
    }
   ],
   "source": [
    "for i in range(5):\n",
    "    print(mr2.randint(9, 15))"
   ]
  },
  {
   "cell_type": "code",
   "execution_count": 73,
   "metadata": {},
   "outputs": [
    {
     "data": {
      "text/plain": [
       "['Queen', 'Jack', 'Ace', 'King']"
      ]
     },
     "execution_count": 73,
     "metadata": {},
     "output_type": "execute_result"
    }
   ],
   "source": [
    "mr1.shuffle([\"Ace\", \"King\", \"Queen\", \"Jack\"])"
   ]
  },
  {
   "cell_type": "code",
   "execution_count": 74,
   "metadata": {},
   "outputs": [
    {
     "data": {
      "text/plain": [
       "'Must pass list to be shuffled'"
      ]
     },
     "execution_count": 74,
     "metadata": {},
     "output_type": "execute_result"
    }
   ],
   "source": [
    "mr1.shuffle('Ace')"
   ]
  },
  {
   "cell_type": "code",
   "execution_count": 75,
   "metadata": {},
   "outputs": [
    {
     "data": {
      "text/plain": [
       "'King'"
      ]
     },
     "execution_count": 75,
     "metadata": {},
     "output_type": "execute_result"
    }
   ],
   "source": [
    "mr1.choice([\"Ace\", \"King\", \"Queen\", \"Jack\"])"
   ]
  },
  {
   "cell_type": "code",
   "execution_count": 76,
   "metadata": {},
   "outputs": [
    {
     "name": "stdout",
     "output_type": "stream",
     "text": [
      "setting new seed...\n"
     ]
    }
   ],
   "source": [
    "mr1.set_seed(13)"
   ]
  },
  {
   "cell_type": "code",
   "execution_count": 77,
   "metadata": {},
   "outputs": [
    {
     "data": {
      "text/plain": [
       "'Ace'"
      ]
     },
     "execution_count": 77,
     "metadata": {},
     "output_type": "execute_result"
    }
   ],
   "source": [
    "mr1.choice([\"Ace\", \"King\", \"Queen\", \"Jack\"])"
   ]
  },
  {
   "cell_type": "code",
   "execution_count": 78,
   "metadata": {},
   "outputs": [],
   "source": [
    "mc1 = MyCoin()"
   ]
  },
  {
   "cell_type": "code",
   "execution_count": 79,
   "metadata": {},
   "outputs": [
    {
     "name": "stdout",
     "output_type": "stream",
     "text": [
      "setting new seed...\n"
     ]
    }
   ],
   "source": [
    "mc1.set_seed(43)"
   ]
  },
  {
   "cell_type": "code",
   "execution_count": 80,
   "metadata": {},
   "outputs": [
    {
     "data": {
      "text/plain": [
       "'heads'"
      ]
     },
     "execution_count": 80,
     "metadata": {},
     "output_type": "execute_result"
    }
   ],
   "source": [
    "mc1.toss()"
   ]
  },
  {
   "cell_type": "code",
   "execution_count": 81,
   "metadata": {},
   "outputs": [],
   "source": [
    "md1 = MyDie()"
   ]
  },
  {
   "cell_type": "code",
   "execution_count": 83,
   "metadata": {},
   "outputs": [
    {
     "name": "stdout",
     "output_type": "stream",
     "text": [
      "2 tails\n",
      "4 heads\n",
      "3 tails\n",
      "4 tails\n",
      "1 heads\n"
     ]
    }
   ],
   "source": [
    "for i in range(5):\n",
    "    print(md1.throw(), mc1.toss())"
   ]
  },
  {
   "cell_type": "code",
   "execution_count": null,
   "metadata": {},
   "outputs": [],
   "source": []
  }
 ],
 "metadata": {
  "kernelspec": {
   "display_name": "Python 3",
   "language": "python",
   "name": "python3"
  },
  "language_info": {
   "codemirror_mode": {
    "name": "ipython",
    "version": 3
   },
   "file_extension": ".py",
   "mimetype": "text/x-python",
   "name": "python",
   "nbconvert_exporter": "python",
   "pygments_lexer": "ipython3",
   "version": "3.8.3"
  }
 },
 "nbformat": 4,
 "nbformat_minor": 4
}
